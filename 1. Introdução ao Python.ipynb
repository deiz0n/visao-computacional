{
  "nbformat": 4,
  "nbformat_minor": 0,
  "metadata": {
    "colab": {
      "provenance": []
    },
    "kernelspec": {
      "name": "python3",
      "display_name": "Python 3"
    },
    "language_info": {
      "name": "python"
    }
  },
  "cells": [
    {
      "cell_type": "markdown",
      "source": [
        "### Introdução a Linguagem Python - Atividade 1"
      ],
      "metadata": {
        "id": "ZnxdzDlwlUGe"
      }
    },
    {
      "cell_type": "markdown",
      "source": [
        "1. Faça uma função que receba 2 números inteiros e um número real. Calcule e mostre o produto do dobro do primeiro número com metade do segundo, somado ao terceiro\n",
        "número.\n",
        "\n"
      ],
      "metadata": {
        "id": "fpqfO8o0RqNj"
      }
    },
    {
      "cell_type": "code",
      "execution_count": null,
      "metadata": {
        "id": "o1622mRuPb2F",
        "colab": {
          "base_uri": "https://localhost:8080/"
        },
        "outputId": "2f9bd1e9-e015-491d-8670-3c367c53800d"
      },
      "outputs": [
        {
          "output_type": "execute_result",
          "data": {
            "text/plain": [
              "7.0"
            ]
          },
          "metadata": {},
          "execution_count": 4
        }
      ],
      "source": [
        "def calc(x, y, real):\n",
        "  return (x * 2) * (y / 2) + real"
      ]
    },
    {
      "cell_type": "markdown",
      "source": [
        "2. Faça um programa que imprima na tela os números de 1 a 20, um abaixo do outro. Depois modifique o programa para que ele mostre os números um ao lado do outro."
      ],
      "metadata": {
        "id": "bFcU_SnnfBYf"
      }
    },
    {
      "cell_type": "code",
      "source": [
        "# Imprime um abaixo do outro\n",
        "def retornar_numeros_impl():\n",
        "  for i in range(1, 21):\n",
        "    print(i)\n",
        "\n",
        "# Imprime um ao lado do outro\n",
        "def retornar_numeros_impl2():\n",
        "  for i in range(1, 20, 2):\n",
        "    print(i, ' ', i+1)"
      ],
      "metadata": {
        "id": "dBoO6CrAfgT7",
        "collapsed": true
      },
      "execution_count": null,
      "outputs": []
    },
    {
      "cell_type": "markdown",
      "source": [
        "3. Contar a quantidade de vogais em uma palavra: Desenvolva uma função que receba uma palavra e retorne a quantidade de vogais presentes na palavra."
      ],
      "metadata": {
        "id": "ed4-Ml3EHM4P"
      }
    },
    {
      "cell_type": "code",
      "source": [
        "def count_vogais(palavra):\n",
        "  vogais = ['a', 'e', 'i', 'o', 'u']\n",
        "  soma = 0\n",
        "  palavra.lower()\n",
        "  for i in palavra:\n",
        "    if i.lower() in vogais:\n",
        "      soma += 1\n",
        "  return soma"
      ],
      "metadata": {
        "colab": {
          "base_uri": "https://localhost:8080/"
        },
        "id": "HuwellzXHmNd",
        "outputId": "dd622d62-5605-4e22-a089-280d4a63f7eb"
      },
      "execution_count": null,
      "outputs": [
        {
          "output_type": "execute_result",
          "data": {
            "text/plain": [
              "6"
            ]
          },
          "metadata": {},
          "execution_count": 27
        }
      ]
    },
    {
      "cell_type": "markdown",
      "source": [
        "4. Escreva uma função que receba uma lista de números e retorne outra lista com os números impares."
      ],
      "metadata": {
        "id": "MufN_ZGPQVkU"
      }
    },
    {
      "cell_type": "code",
      "source": [
        "def retornar_impares(lista):\n",
        "  impares = []\n",
        "  for i in lista:\n",
        "    if i % 2 != 0:\n",
        "      impares.append(i)\n",
        "  return impares"
      ],
      "metadata": {
        "colab": {
          "base_uri": "https://localhost:8080/"
        },
        "id": "sSgBheTiQfFU",
        "outputId": "4c1538ac-9da2-42d3-896b-b46c86798f5c"
      },
      "execution_count": null,
      "outputs": [
        {
          "output_type": "execute_result",
          "data": {
            "text/plain": [
              "[1, 3, 5, 7, 9]"
            ]
          },
          "metadata": {},
          "execution_count": 29
        }
      ]
    },
    {
      "cell_type": "markdown",
      "source": [
        "5. Dada uma lista de palavras, crie um código capaz de exibir a maior e a menor palavra da lista."
      ],
      "metadata": {
        "id": "lI3S8LpERHF_"
      }
    },
    {
      "cell_type": "code",
      "source": [
        "def maior_menor(lista):\n",
        "  maior = lista[0]\n",
        "  menor = lista[0]\n",
        "  for i in lista:\n",
        "    if len(i) > len(maior):\n",
        "      maior = i\n",
        "    if len(i) < len(menor):\n",
        "      menor = i\n",
        "  return maior, menor"
      ],
      "metadata": {
        "colab": {
          "base_uri": "https://localhost:8080/"
        },
        "id": "2_Yb_ryIRvt5",
        "outputId": "90f54e1f-aa33-455c-f66b-671275799620"
      },
      "execution_count": null,
      "outputs": [
        {
          "output_type": "execute_result",
          "data": {
            "text/plain": [
              "('Eduardo', 'Lima')"
            ]
          },
          "metadata": {},
          "execution_count": 31
        }
      ]
    },
    {
      "cell_type": "markdown",
      "source": [
        "6. Desenvolva um código que determine e mostre o produto mais votado. Você receberá uma lista contendo votos para diferentes produtos. A partir dessa lista, crie um dicionário onde cada chave representa o nome do produto e o valor associado corresponde à quantidade de votos recebidos por ele. Por fim, exiba o produto que recebeu o maior número de votos."
      ],
      "metadata": {
        "id": "EQ3DSrAfTdj9"
      }
    },
    {
      "cell_type": "code",
      "source": [
        "def mais_votado(produtos):\n",
        "  maior = 0\n",
        "  produto = ''\n",
        "  for i in produtos:\n",
        "    if produtos[i] > maior:\n",
        "      maior = produtos[i]\n",
        "      produto = i\n",
        "  return produto"
      ],
      "metadata": {
        "colab": {
          "base_uri": "https://localhost:8080/",
          "height": 36
        },
        "id": "njfGgSduTiRH",
        "outputId": "20c54e67-fbbe-4b15-9260-55e8b2374b7d"
      },
      "execution_count": null,
      "outputs": [
        {
          "output_type": "execute_result",
          "data": {
            "text/plain": [
              "'tv'"
            ],
            "application/vnd.google.colaboratory.intrinsic+json": {
              "type": "string"
            }
          },
          "metadata": {},
          "execution_count": 36
        }
      ]
    },
    {
      "cell_type": "markdown",
      "source": [
        "7. Crie uma função que receba uma lista de tuplas, cada uma contendo o nome e a idade de uma pessoa, e retorne a lista ordenada pelo nome das pessoas em ordem alfabética."
      ],
      "metadata": {
        "id": "T9FnR7C9jqeA"
      }
    },
    {
      "cell_type": "code",
      "source": [
        "def ordenar_por_nome(lista):\n",
        "  return dict(sorted(lista.items()))"
      ],
      "metadata": {
        "id": "zReLwltxjw5I"
      },
      "execution_count": null,
      "outputs": []
    },
    {
      "cell_type": "markdown",
      "source": [
        "8. Escreva uma função que receba uma lista de números e retorne outra lista com os números primos presentes."
      ],
      "metadata": {
        "id": "a0COlkywkiNt"
      }
    },
    {
      "cell_type": "code",
      "source": [
        "def retornar_primos(lista):\n",
        "  primos = []\n",
        "  for i in lista:\n",
        "    if i % 2 != 0:\n",
        "      primos.append(i)\n",
        "  return primos"
      ],
      "metadata": {
        "colab": {
          "base_uri": "https://localhost:8080/"
        },
        "id": "Hzjid6tOkpKF",
        "outputId": "24cea3b1-4506-407d-a4cf-d56eb3e11b5f"
      },
      "execution_count": null,
      "outputs": [
        {
          "output_type": "execute_result",
          "data": {
            "text/plain": [
              "[1, 3, 5, 7, 9]"
            ]
          },
          "metadata": {},
          "execution_count": 43
        }
      ]
    }
  ]
}